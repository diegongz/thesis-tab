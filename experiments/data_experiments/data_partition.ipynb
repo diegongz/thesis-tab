{
 "cells": [
  {
   "cell_type": "code",
   "execution_count": 16,
   "metadata": {},
   "outputs": [],
   "source": [
    "import sys\n",
    "import os\n",
    "\n",
    "# Get the project directory\n",
    "project_path = \"/home/diego/Git/thesis-tabtrans\"\n",
    "\n",
    "sys.path.append(project_path) #This helps to be able to import the data from the parent directory to other files\n",
    "\n",
    "from utils import tabtrans_file, data\n",
    "import openml\n",
    "from sklearn import datasets, model_selection, pipeline, metrics\n",
    "from sklearn.preprocessing import LabelEncoder, OrdinalEncoder, StandardScaler #to create one hot encoding for categorical variables\n",
    "from collections import Counter\n",
    "import numpy as np\n",
    "\n",
    "\n"
   ]
  },
  {
   "cell_type": "code",
   "execution_count": 17,
   "metadata": {},
   "outputs": [
    {
     "name": "stdout",
     "output_type": "stream",
     "text": [
      "INFO:openml.datasets.dataset:pickle write lsvt\n"
     ]
    }
   ],
   "source": [
    "id = 1484\n",
    "\n",
    "if id in [1484,1564]: #two selected datasets with no task id, just id\n",
    "    df = data.read_dataset_by_id(id)\n",
    "else:\n",
    "    task_id = id\n",
    "    task = openml.tasks.get_task(task_id)\n",
    "    dataset_id = task.dataset_id #suppose we input the task id \n",
    "    df = read_dataset_by_id(dataset_id)\n",
    "\n",
    "X = df[\"features\"] #features\n",
    "y = df[\"outputs\"].codes #outputs\n",
    "\n",
    "label_counts = Counter(y) #counts how many instances of each class I have\n",
    "\n",
    "labels_to_keep = {label for label, count in label_counts.items() if count > 10} #I will keep only the classes that have more than 25 instances\n",
    "\n",
    "mask = np.isin(y, list(labels_to_keep))\n",
    "\n",
    "#Filtering the classes with less than 10 instances\n",
    "X_masked = X[mask]\n",
    "y_masked = y[mask]\n",
    "\n",
    "unique_values, counts = np.unique(y, return_counts=True)\n",
    "n_labels = len(unique_values)\n",
    "\n",
    "#create label encoder for the outputs just to have an order in values\n",
    "encoder = LabelEncoder()\n",
    "\n",
    "#encode the labels (converts strings to integers from 0 to n-1)\n",
    "y = encoder.fit_transform(y)\n",
    "\n",
    "#First I want to get the 80-20-20 split (Train-Test-Validation)\n",
    "X_train, X_test, y_train, y_test = model_selection.train_test_split(X_masked, y_masked, test_size=0.20, random_state= 11, stratify = y_masked)\n",
    "train_indices, val_indices = model_selection.train_test_split(np.arange(X_train.shape[0]), test_size=.33, random_state= 11, stratify = y_train) #.33 of train is equal to 20% of total\n"
   ]
  },
  {
   "cell_type": "code",
   "execution_count": 21,
   "metadata": {},
   "outputs": [
    {
     "data": {
      "text/plain": [
       "17"
      ]
     },
     "execution_count": 21,
     "metadata": {},
     "output_type": "execute_result"
    }
   ],
   "source": [
    "train_indices[0]"
   ]
  },
  {
   "cell_type": "code",
   "execution_count": 22,
   "metadata": {},
   "outputs": [
    {
     "data": {
      "text/plain": [
       "numpy.ndarray"
      ]
     },
     "execution_count": 22,
     "metadata": {},
     "output_type": "execute_result"
    }
   ],
   "source": [
    "type(train_indices)"
   ]
  },
  {
   "cell_type": "code",
   "execution_count": 23,
   "metadata": {},
   "outputs": [],
   "source": [
    "new_train, _ = model_selection.train_test_split(train_indices, train_size=.80, random_state= 11, stratify = y_train[train_indices]) #.33 of train is equal to 20% of total\n"
   ]
  },
  {
   "cell_type": "code",
   "execution_count": null,
   "metadata": {},
   "outputs": [],
   "source": []
  }
 ],
 "metadata": {
  "kernelspec": {
   "display_name": "tabtrans",
   "language": "python",
   "name": "python3"
  },
  "language_info": {
   "codemirror_mode": {
    "name": "ipython",
    "version": 3
   },
   "file_extension": ".py",
   "mimetype": "text/x-python",
   "name": "python",
   "nbconvert_exporter": "python",
   "pygments_lexer": "ipython3",
   "version": "3.11.7"
  }
 },
 "nbformat": 4,
 "nbformat_minor": 2
}
