{
 "cells": [
  {
   "cell_type": "code",
   "execution_count": 15,
   "metadata": {},
   "outputs": [],
   "source": [
    "import sys\n",
    "import os\n",
    "\n",
    "# Get the project directory\n",
    "project_path = \"/home/diego/Git/thesis-tabtrans\"\n",
    "\n",
    "sys.path.append(project_path) #This helps to be able to import the data from the parent directory to other files\n",
    "\n",
    "from utils import tabtrans_file, data\n",
    "import openml\n",
    "from sklearn import datasets, model_selection, pipeline, metrics\n",
    "from sklearn.preprocessing import LabelEncoder, OrdinalEncoder, StandardScaler #to create one hot encoding for categorical variables\n",
    "from collections import Counter\n",
    "import numpy as np\n",
    "import pandas as pd\n",
    "\n",
    "\n",
    "\n"
   ]
  },
  {
   "cell_type": "code",
   "execution_count": 14,
   "metadata": {},
   "outputs": [
    {
     "name": "stdout",
     "output_type": "stream",
     "text": [
      "INFO:openml.datasets.dataset:pickle write lsvt\n",
      "INFO:openml.datasets.dataset:pickle write mfeat-factors\n"
     ]
    },
    {
     "name": "stdout",
     "output_type": "stream",
     "text": [
      "INFO:openml.datasets.dataset:pickle write semeion\n",
      "INFO:openml.datasets.dataset:pickle write arrhythmia\n",
      "INFO:openml.datasets.dataset:pickle write scene\n",
      "INFO:openml.datasets.dataset:pickle write madelon\n"
     ]
    }
   ],
   "source": [
    "ids = [1484, 12, 9964, 233092, 3485, 9976]\n",
    "\n",
    "names =[]\n",
    "features = []\n",
    "instances = []\n",
    "\n",
    "\n",
    "for id in ids:\n",
    "    df_name = data.get_dataset_name(id) #get the name of the df\n",
    "    names.append(df_name)\n",
    "\n",
    "    X_train, X_test, y_train, y_test, train_indices, val_indices, n_instances, n_labels, n_numerical, n_categories = data.import_data(id, 100)\n",
    "\n",
    "    instances.append(X_train.shape[0]+X_test.shape[0])\n",
    "\n",
    "    n_features = X_train.shape[1]\n",
    "\n",
    "    features.append(n_features)"
   ]
  },
  {
   "cell_type": "code",
   "execution_count": 17,
   "metadata": {},
   "outputs": [],
   "source": [
    "f2i_lst = []\n",
    "\n",
    "for i in range(len(ids)):\n",
    "    f2i = features[i]/instances[i]\n",
    "    f2i_lst.append(f2i)"
   ]
  },
  {
   "cell_type": "code",
   "execution_count": 24,
   "metadata": {},
   "outputs": [],
   "source": [
    "f2i_lst\n",
    "\n",
    "# Create DataFrame\n",
    "df = pd.DataFrame({\n",
    "    'Names': names,\n",
    "    'Features': features,\n",
    "    'Instances': instances,\n",
    "    'F2I': f2i_lst\n",
    "})"
   ]
  },
  {
   "cell_type": "code",
   "execution_count": 25,
   "metadata": {},
   "outputs": [
    {
     "data": {
      "text/html": [
       "<div>\n",
       "<style scoped>\n",
       "    .dataframe tbody tr th:only-of-type {\n",
       "        vertical-align: middle;\n",
       "    }\n",
       "\n",
       "    .dataframe tbody tr th {\n",
       "        vertical-align: top;\n",
       "    }\n",
       "\n",
       "    .dataframe thead th {\n",
       "        text-align: right;\n",
       "    }\n",
       "</style>\n",
       "<table border=\"1\" class=\"dataframe\">\n",
       "  <thead>\n",
       "    <tr style=\"text-align: right;\">\n",
       "      <th></th>\n",
       "      <th>Names</th>\n",
       "      <th>Features</th>\n",
       "      <th>Instances</th>\n",
       "      <th>F2I</th>\n",
       "    </tr>\n",
       "  </thead>\n",
       "  <tbody>\n",
       "    <tr>\n",
       "      <th>0</th>\n",
       "      <td>lsvt</td>\n",
       "      <td>310</td>\n",
       "      <td>126</td>\n",
       "      <td>2.460317</td>\n",
       "    </tr>\n",
       "    <tr>\n",
       "      <th>1</th>\n",
       "      <td>mfeat-factors</td>\n",
       "      <td>216</td>\n",
       "      <td>2000</td>\n",
       "      <td>0.108000</td>\n",
       "    </tr>\n",
       "    <tr>\n",
       "      <th>2</th>\n",
       "      <td>semeion</td>\n",
       "      <td>256</td>\n",
       "      <td>1593</td>\n",
       "      <td>0.160703</td>\n",
       "    </tr>\n",
       "    <tr>\n",
       "      <th>3</th>\n",
       "      <td>arrhythmia</td>\n",
       "      <td>279</td>\n",
       "      <td>429</td>\n",
       "      <td>0.650350</td>\n",
       "    </tr>\n",
       "    <tr>\n",
       "      <th>4</th>\n",
       "      <td>scene</td>\n",
       "      <td>299</td>\n",
       "      <td>2407</td>\n",
       "      <td>0.124221</td>\n",
       "    </tr>\n",
       "    <tr>\n",
       "      <th>5</th>\n",
       "      <td>madelon</td>\n",
       "      <td>500</td>\n",
       "      <td>2600</td>\n",
       "      <td>0.192308</td>\n",
       "    </tr>\n",
       "  </tbody>\n",
       "</table>\n",
       "</div>"
      ],
      "text/plain": [
       "           Names  Features  Instances       F2I\n",
       "0           lsvt       310        126  2.460317\n",
       "1  mfeat-factors       216       2000  0.108000\n",
       "2        semeion       256       1593  0.160703\n",
       "3     arrhythmia       279        429  0.650350\n",
       "4          scene       299       2407  0.124221\n",
       "5        madelon       500       2600  0.192308"
      ]
     },
     "execution_count": 25,
     "metadata": {},
     "output_type": "execute_result"
    }
   ],
   "source": [
    "df"
   ]
  },
  {
   "cell_type": "code",
   "execution_count": 26,
   "metadata": {},
   "outputs": [],
   "source": [
    "df.to_csv('exported_dataframe.csv', index=False)"
   ]
  },
  {
   "cell_type": "code",
   "execution_count": null,
   "metadata": {},
   "outputs": [],
   "source": [
    "id = 1484\n",
    "\n",
    "if id in [1484,1564]: #two selected datasets with no task id, just id\n",
    "    df = data.read_dataset_by_id(id)\n",
    "else:\n",
    "    task_id = id\n",
    "    task = openml.tasks.get_task(task_id)\n",
    "    dataset_id = task.dataset_id #suppose we input the task id \n",
    "    df = read_dataset_by_id(dataset_id)\n",
    "\n",
    "X = df[\"features\"] #features\n",
    "y = df[\"outputs\"].codes #outputs\n",
    "\n",
    "label_counts = Counter(y) #counts how many instances of each class I have\n",
    "\n",
    "labels_to_keep = {label for label, count in label_counts.items() if count > 10} #I will keep only the classes that have more than 25 instances\n",
    "\n",
    "mask = np.isin(y, list(labels_to_keep))\n",
    "\n",
    "#Filtering the classes with less than 10 instances\n",
    "X_masked = X[mask]\n",
    "y_masked = y[mask]\n",
    "\n",
    "unique_values, counts = np.unique(y, return_counts=True)\n",
    "n_labels = len(unique_values)\n",
    "\n",
    "#create label encoder for the outputs just to have an order in values\n",
    "encoder = LabelEncoder()\n",
    "\n",
    "#encode the labels (converts strings to integers from 0 to n-1)\n",
    "y = encoder.fit_transform(y)\n",
    "\n",
    "#First I want to get the 80-20-20 split (Train-Test-Validation)\n",
    "X_train, X_test, y_train, y_test = model_selection.train_test_split(X_masked, y_masked, test_size=0.20, random_state= 11, stratify = y_masked)\n",
    "train_indices, val_indices = model_selection.train_test_split(np.arange(X_train.shape[0]), test_size=.33, random_state= 11, stratify = y_train) #.33 of train is equal to 20% of total\n"
   ]
  },
  {
   "cell_type": "code",
   "execution_count": null,
   "metadata": {},
   "outputs": [],
   "source": [
    "train_indices[0]"
   ]
  },
  {
   "cell_type": "code",
   "execution_count": null,
   "metadata": {},
   "outputs": [],
   "source": [
    "type(train_indices)"
   ]
  },
  {
   "cell_type": "code",
   "execution_count": 23,
   "metadata": {},
   "outputs": [],
   "source": [
    "new_train, _ = model_selection.train_test_split(train_indices, train_size=.80, random_state= 11, stratify = y_train[train_indices]) #.33 of train is equal to 20% of total\n"
   ]
  },
  {
   "cell_type": "code",
   "execution_count": null,
   "metadata": {},
   "outputs": [],
   "source": []
  }
 ],
 "metadata": {
  "kernelspec": {
   "display_name": "tabtrans",
   "language": "python",
   "name": "python3"
  },
  "language_info": {
   "codemirror_mode": {
    "name": "ipython",
    "version": 3
   },
   "file_extension": ".py",
   "mimetype": "text/x-python",
   "name": "python",
   "nbconvert_exporter": "python",
   "pygments_lexer": "ipython3",
   "version": "3.11.7"
  }
 },
 "nbformat": 4,
 "nbformat_minor": 2
}
