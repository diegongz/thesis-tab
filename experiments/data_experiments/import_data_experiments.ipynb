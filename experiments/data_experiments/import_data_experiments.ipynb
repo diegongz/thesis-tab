{
 "cells": [
  {
   "cell_type": "code",
   "execution_count": null,
   "metadata": {},
   "outputs": [],
   "source": [
    "import sys\n",
    "import os\n",
    "\n",
    "# Get the project directory\n",
    "project_path = \"/home/diego/Git/thesis-tabtrans\"\n",
    "\n",
    "sys.path.append(project_path) #This helps to be able to import the data from the parent directory to other files\n",
    "\n",
    "from utils import tabtrans_file, data\n",
    "import numpy as np"
   ]
  },
  {
   "cell_type": "code",
   "execution_count": null,
   "metadata": {},
   "outputs": [],
   "source": [
    "id = 1484\n",
    "\n",
    "X_train, X_test, y_train, y_test, train_indices, val_indices, n_instances, n_labels, n_numerical, n_categories = data.import_data(id)"
   ]
  },
  {
   "cell_type": "code",
   "execution_count": null,
   "metadata": {},
   "outputs": [],
   "source": [
    "N = X_train.shape[0] + X_test.shape[0]\n",
    "\n",
    "print(f\"Total data instances: {N}\")\n",
    "print(f\"Number in testing set: {X_test.shape[0]}\")\n",
    "\n",
    "print(f\"Number in X before partition :{X_train.shape[0]}\")\n",
    "\n",
    "print(f\"Lenght of train indices {len(train_indices)}\")\n",
    "print(f\"Lenght of val indices {len(val_indices)}\")"
   ]
  },
  {
   "cell_type": "code",
   "execution_count": null,
   "metadata": {},
   "outputs": [],
   "source": [
    "print(\"This are the first indices of trainning and from validation \\n\")\n",
    "\n",
    "print(train_indices)\n",
    "print(f\"The lenght of train indices if {len(train_indices)} \\n\")\n",
    "\n",
    "print(val_indices)\n",
    "print(f\"The lenght of val indices if {len(val_indices)} \\n\")\n",
    "\n",
    "new_train_indices, new_val_indices = data.reduce_size(y_train, train_indices, val_indices, 80, 11)\n",
    "\n",
    "print(\"----------------------------------------------------\")\n",
    "\n",
    "print(\"This are the new indices of trainning \\n\")\n",
    "print(new_train_indices)\n",
    "print(f\"The lenght of train indices if {len(new_train_indices)} \\n\")\n",
    "\n",
    "print(\"This are the new indices of validation \\n\")\n",
    "print(new_val_indices)\n",
    "print(f\"The lenght of val indices if {len(new_val_indices)} \\n\")\n"
   ]
  },
  {
   "cell_type": "code",
   "execution_count": null,
   "metadata": {},
   "outputs": [],
   "source": [
    "seed = 11\n",
    "\n",
    "np.random.seed(seed)\n",
    "\n",
    "seeds = np.random.randint(0, 101, size=2)\n",
    "\n",
    "print(seeds)"
   ]
  },
  {
   "cell_type": "code",
   "execution_count": 17,
   "metadata": {},
   "outputs": [],
   "source": [
    "train_experiments =[]\n",
    "val_experiments = []\n",
    "\n",
    "for seed in seeds:\n",
    "    train, val = data.reduce_size(y_train, train_indices, val_indices, 80, seed)\n",
    "\n",
    "    train_experiments.append(train)\n",
    "    val_experiments.append(val)\n",
    "\n",
    "    \n",
    "\n"
   ]
  },
  {
   "cell_type": "code",
   "execution_count": null,
   "metadata": {},
   "outputs": [],
   "source": [
    "print(train_experiments[0]) "
   ]
  },
  {
   "cell_type": "code",
   "execution_count": null,
   "metadata": {},
   "outputs": [],
   "source": [
    "common = np.intersect1d(train_experiments[0], train_experiments[1])\n",
    "\n",
    "print(len(common))\n",
    "print(len(train_experiments[0]))"
   ]
  }
 ],
 "metadata": {
  "kernelspec": {
   "display_name": "tabtrans",
   "language": "python",
   "name": "python3"
  },
  "language_info": {
   "codemirror_mode": {
    "name": "ipython",
    "version": 3
   },
   "file_extension": ".py",
   "mimetype": "text/x-python",
   "name": "python",
   "nbconvert_exporter": "python",
   "pygments_lexer": "ipython3",
   "version": "3.11.7"
  }
 },
 "nbformat": 4,
 "nbformat_minor": 2
}
