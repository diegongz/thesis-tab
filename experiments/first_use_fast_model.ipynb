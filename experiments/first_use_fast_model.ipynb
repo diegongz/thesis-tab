{
 "cells": [
  {
   "cell_type": "code",
   "execution_count": 1,
   "metadata": {},
   "outputs": [],
   "source": [
    "import sys\n",
    "sys.path.append('/home/diego/Git/thesis-tabtrans')\n",
    "from utils import training, callback, evaluating, attention, data\n",
    "from utils import fast_model as fm"
   ]
  },
  {
   "cell_type": "code",
   "execution_count": 2,
   "metadata": {},
   "outputs": [],
   "source": [
    "task_id = 233093\n",
    "Layers = [4]\n",
    "Heads = [4]\n",
    "Emedding_dim = 128 #The embedding size is set one by one to avoid the out of memory error\n",
    "batch_size = 64\n",
    "epochs = 100"
   ]
  },
  {
   "cell_type": "code",
   "execution_count": 3,
   "metadata": {},
   "outputs": [],
   "source": [
    "parameters = fm.create_parameters(task_id, Layers, Heads, Emedding_dim, batch_size, epochs)\n",
    "project_path = \"/home/diego/Git/thesis-tabtrans\""
   ]
  },
  {
   "cell_type": "code",
   "execution_count": 4,
   "metadata": {},
   "outputs": [
    {
     "name": "stdout",
     "output_type": "stream",
     "text": [
      "INFO:openml.datasets.dataset:pickle write mfeat-factors\n"
     ]
    },
    {
     "ename": "UnboundLocalError",
     "evalue": "cannot access local variable 'numerical_imputed' where it is not associated with a value",
     "output_type": "error",
     "traceback": [
      "\u001b[0;31m---------------------------------------------------------------------------\u001b[0m",
      "\u001b[0;31mUnboundLocalError\u001b[0m                         Traceback (most recent call last)",
      "Cell \u001b[0;32mIn[4], line 1\u001b[0m\n\u001b[0;32m----> 1\u001b[0m fm\u001b[38;5;241m.\u001b[39mmodel_creation(parameters, project_path)\n",
      "File \u001b[0;32m~/Git/thesis-tabtrans/utils/fast_model.py:90\u001b[0m, in \u001b[0;36mmodel_creation\u001b[0;34m(parameters, project_path)\u001b[0m\n\u001b[1;32m     87\u001b[0m \u001b[38;5;66;03m#get the dataset_name\u001b[39;00m\n\u001b[1;32m     88\u001b[0m dataset_name \u001b[38;5;241m=\u001b[39m data\u001b[38;5;241m.\u001b[39mget_dataset_name(task_id)\n\u001b[0;32m---> 90\u001b[0m X_train, X_test, y_train, y_test, n_instances, n_labels, n_numerical, n_categories \u001b[38;5;241m=\u001b[39m data\u001b[38;5;241m.\u001b[39mimport_data(task_id)\n\u001b[1;32m     91\u001b[0m \u001b[38;5;66;03m#getting validation indices\u001b[39;00m\n\u001b[1;32m     92\u001b[0m train_indices, val_indices \u001b[38;5;241m=\u001b[39m model_selection\u001b[38;5;241m.\u001b[39mtrain_test_split(np\u001b[38;5;241m.\u001b[39marange(X_train\u001b[38;5;241m.\u001b[39mshape[\u001b[38;5;241m0\u001b[39m]), test_size\u001b[38;5;241m=\u001b[39m\u001b[38;5;241m1\u001b[39m\u001b[38;5;241m/\u001b[39m\u001b[38;5;241m3\u001b[39m, stratify\u001b[38;5;241m=\u001b[39my_train) \u001b[38;5;66;03m#1/3 of train is equal to 20% of total\u001b[39;00m\n",
      "File \u001b[0;32m~/Git/thesis-tabtrans/utils/data.py:143\u001b[0m, in \u001b[0;36mimport_data\u001b[0;34m(id)\u001b[0m\n\u001b[1;32m    139\u001b[0m \u001b[38;5;28;01mif\u001b[39;00m X_categorical\u001b[38;5;241m.\u001b[39misnull()\u001b[38;5;241m.\u001b[39mvalues\u001b[38;5;241m.\u001b[39many():\n\u001b[1;32m    140\u001b[0m     \u001b[38;5;28mprint\u001b[39m(\u001b[38;5;124m\"\u001b[39m\u001b[38;5;124mThere are missing values in the categorical features\u001b[39m\u001b[38;5;124m\"\u001b[39m)\n\u001b[0;32m--> 143\u001b[0m X_numerical \u001b[38;5;241m=\u001b[39m pd\u001b[38;5;241m.\u001b[39mDataFrame(numerical_imputed, columns\u001b[38;5;241m=\u001b[39mX_numerical\u001b[38;5;241m.\u001b[39mcolumns) \u001b[38;5;66;03m# Convert NumPy array back to Pandas DataFrame\u001b[39;00m\n\u001b[1;32m    144\u001b[0m X_ordered \u001b[38;5;241m=\u001b[39m pd\u001b[38;5;241m.\u001b[39mconcat([X_numerical, X_categorical], axis\u001b[38;5;241m=\u001b[39m\u001b[38;5;241m1\u001b[39m) \u001b[38;5;66;03m#ordered columns, first numerical then categorical    \u001b[39;00m\n\u001b[1;32m    146\u001b[0m y \u001b[38;5;241m=\u001b[39m df[\u001b[38;5;124m\"\u001b[39m\u001b[38;5;124moutputs\u001b[39m\u001b[38;5;124m\"\u001b[39m]\u001b[38;5;241m.\u001b[39mcodes\n",
      "\u001b[0;31mUnboundLocalError\u001b[0m: cannot access local variable 'numerical_imputed' where it is not associated with a value"
     ]
    }
   ],
   "source": [
    "fm.model_creation(parameters, project_path)"
   ]
  }
 ],
 "metadata": {
  "kernelspec": {
   "display_name": "tabtrans",
   "language": "python",
   "name": "python3"
  },
  "language_info": {
   "codemirror_mode": {
    "name": "ipython",
    "version": 3
   },
   "file_extension": ".py",
   "mimetype": "text/x-python",
   "name": "python",
   "nbconvert_exporter": "python",
   "pygments_lexer": "ipython3",
   "version": "3.11.7"
  }
 },
 "nbformat": 4,
 "nbformat_minor": 2
}
