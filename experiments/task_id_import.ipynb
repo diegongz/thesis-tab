{
 "cells": [
  {
   "cell_type": "code",
   "execution_count": 12,
   "metadata": {},
   "outputs": [],
   "source": [
    "import openml "
   ]
  },
  {
   "cell_type": "code",
   "execution_count": 13,
   "metadata": {},
   "outputs": [
    {
     "name": "stdout",
     "output_type": "stream",
     "text": [
      "INFO:openml.datasets.dataset:pickle load data vehicle\n",
      "54\n",
      "54\n"
     ]
    }
   ],
   "source": [
    "import openml\n",
    "\n",
    "# Define the task ID\n",
    "task_id = 233094  # Change this to the task ID you're interested in\n",
    "\n",
    "# Step 1: Get the task object using its ID\n",
    "task = openml.tasks.get_task(task_id)\n",
    "\n",
    "# Step 2: Access the original data splits from the task object\n",
    "train_indices, test_indices = task.get_train_test_split_indices()\n",
    "\n",
    "dataset_id = task.dataset_id\n",
    "\n",
    "# Step 3: Use the indices to obtain the original split from the dataset\n",
    "dataset = task.get_dataset()\n",
    "X, y, _,_= dataset.get_data(target=task.target_name)\n",
    "\n",
    "print(dataset_id)"
   ]
  },
  {
   "cell_type": "code",
   "execution_count": 14,
   "metadata": {},
   "outputs": [
    {
     "data": {
      "text/plain": [
       "pandas.core.series.Series"
      ]
     },
     "execution_count": 14,
     "metadata": {},
     "output_type": "execute_result"
    }
   ],
   "source": [
    "type(y[:len(train_indices)])"
   ]
  },
  {
   "cell_type": "markdown",
   "metadata": {},
   "source": [
    "AS we can see in the below plot, the split is almost a balanced split between classes."
   ]
  },
  {
   "cell_type": "code",
   "execution_count": 15,
   "metadata": {},
   "outputs": [
    {
     "data": {
      "image/png": "[encoded data removed]",
      "text/plain": [
       "<Figure size 640x480 with 1 Axes>"
      ]
     },
     "metadata": {},
     "output_type": "display_data"
    }
   ],
   "source": [
    "import matplotlib.pyplot as plt\n",
    "\n",
    "data = y[:len(train_indices)]\n",
    "plt.hist(data, bins=10, color='skyblue', edgecolor='black')\n",
    "\n",
    "# Add labels and title\n",
    "plt.xlabel('Values')\n",
    "plt.ylabel('Frequency')\n",
    "plt.title('Histogram of Sample Data')\n",
    "\n",
    "# Show the plot\n",
    "plt.show()"
   ]
  },
  {
   "cell_type": "markdown",
   "metadata": {},
   "source": [
    "___"
   ]
  },
  {
   "cell_type": "code",
   "execution_count": 16,
   "metadata": {},
   "outputs": [],
   "source": [
    "import sys\n",
    "sys.path.append('/home/diego/Git/thesis-tabtrans')\n",
    "from utils import training, callback, evaluating, attention, data\n"
   ]
  },
  {
   "cell_type": "code",
   "execution_count": 17,
   "metadata": {},
   "outputs": [
    {
     "name": "stdout",
     "output_type": "stream",
     "text": [
      "INFO:openml.datasets.dataset:pickle write vehicle\n"
     ]
    }
   ],
   "source": [
    "df = data.read_dataset_by_id(54)"
   ]
  },
  {
   "cell_type": "code",
   "execution_count": 18,
   "metadata": {},
   "outputs": [],
   "source": [
    "y = df[\"outputs\"].codes"
   ]
  },
  {
   "cell_type": "code",
   "execution_count": 19,
   "metadata": {},
   "outputs": [
    {
     "data": {
      "text/plain": [
       "array([3, 3, 1, 3, 2, 2, 2, 3, 3, 1, 3, 1, 2, 3, 2, 0, 3, 2, 1, 0, 2, 3,\n",
       "       2, 2, 1, 3, 1, 1, 2, 1, 3, 1, 0, 0, 0, 3, 2, 3, 1, 2, 0, 3, 3, 1,\n",
       "       1, 3, 3, 2, 3, 1, 1, 1, 0, 2, 2, 3, 1, 3, 0, 3, 0, 0, 3, 2, 2, 0,\n",
       "       2, 0, 3, 2, 0, 0, 0, 0, 3, 0, 1, 1, 2, 2, 2, 2, 3, 0, 2, 2, 3, 3,\n",
       "       2, 0, 1, 0, 1, 3, 2, 0, 1, 2, 0, 2, 2, 3, 3, 3, 2, 1, 0, 0, 2, 2,\n",
       "       3, 3, 0, 0, 3, 3, 0, 1, 2, 2, 1, 3, 3, 1, 3, 3, 2, 2, 3, 2, 1, 1,\n",
       "       1, 3, 0, 3, 3, 3, 1, 3, 1, 2, 0, 2, 0, 0, 3, 2, 1, 3, 1, 2, 0, 1,\n",
       "       3, 2, 0, 3, 1, 0, 0, 0, 1, 1, 0, 0, 1, 1, 2, 3, 0, 2, 3, 2, 3, 2,\n",
       "       0, 2, 2, 3, 1, 0, 2, 1, 1, 2, 2, 0, 0, 0, 0, 3, 1, 2, 1, 2, 1, 2,\n",
       "       2, 2, 3, 1, 0, 0, 3, 3, 0, 2, 2, 0, 0, 3, 2, 2, 0, 0, 1, 0, 2, 3,\n",
       "       0, 3, 2, 2, 1, 3, 1, 3, 1, 1, 3, 1, 2, 1, 3, 3, 2, 2, 0, 2, 0, 0,\n",
       "       2, 1, 3, 3, 2, 1, 0, 1, 3, 0, 3, 2, 3, 1, 1, 0, 1, 0, 1, 1, 3, 3,\n",
       "       1, 2, 2, 1, 3, 3, 2, 1, 3, 3, 2, 2, 2, 0, 1, 2, 0, 2, 2, 1, 3, 1,\n",
       "       2, 3, 0, 1, 3, 3, 2, 3, 2, 2, 2, 1, 1, 2, 1, 0, 2, 3, 2, 2, 1, 0,\n",
       "       0, 0, 1, 3, 2, 0, 2, 3, 3, 1, 3, 2, 1, 2, 2, 1, 1, 2, 0, 0, 3, 1,\n",
       "       3, 0, 0, 2, 2, 1, 3, 2, 3, 2, 2, 0, 1, 0, 0, 2, 1, 0, 3, 0, 0, 1,\n",
       "       3, 2, 1, 0, 2, 1, 0, 0, 1, 1, 1, 3, 0, 1, 3, 1, 2, 0, 2, 2, 3, 2,\n",
       "       3, 2, 1, 1, 1, 0, 0, 2, 2, 0, 0, 3, 1, 3, 3, 0, 2, 3, 3, 2, 1, 0,\n",
       "       2, 2, 2, 3, 1, 0, 0, 3, 0, 2, 0, 1, 2, 1, 1, 0, 2, 0, 3, 0, 2, 2,\n",
       "       2, 1, 3, 0, 1, 2, 0, 0, 0, 0, 1, 3, 1, 2, 1, 2, 1, 3, 3, 0, 0, 1,\n",
       "       1, 3, 3, 0, 2, 3, 1, 0, 2, 3, 2, 0, 0, 2, 1, 2, 3, 3, 0, 1, 3, 0,\n",
       "       0, 0, 2, 2, 2, 0, 1, 3, 3, 0, 2, 0, 0, 1, 0, 3, 2, 2, 1, 0, 0, 3,\n",
       "       3, 2, 0, 1, 0, 0, 1, 1, 2, 0, 2, 2, 0, 3, 3, 0, 0, 0, 0, 1, 0, 1,\n",
       "       1, 0, 3, 0, 2, 0, 0, 1, 3, 0, 0, 1, 1, 3, 1, 3, 1, 3, 0, 1, 1, 0,\n",
       "       2, 2, 1, 2, 1, 3, 3, 3, 1, 3, 0, 2, 2, 3, 1, 1, 2, 3, 3, 2, 2, 1,\n",
       "       3, 0, 1, 2, 1, 0, 2, 1, 2, 1, 0, 0, 1, 0, 2, 1, 1, 1, 2, 3, 1, 1,\n",
       "       3, 3, 0, 1, 1, 0, 0, 0, 2, 3, 1, 1, 2, 3, 0, 0, 0, 0, 2, 0, 2, 1,\n",
       "       3, 0, 0, 3, 2, 1, 2, 3, 0, 1, 0, 1, 3, 3, 0, 2, 0, 3, 0, 2, 1, 0,\n",
       "       0, 3, 3, 0, 1, 3, 1, 1, 1, 1, 2, 2, 2, 3, 1, 0, 2, 0, 0, 3, 1, 2,\n",
       "       2, 0, 0, 2, 1, 2, 3, 0, 2, 1, 1, 1, 1, 1, 0, 0, 1, 3, 2, 3, 3, 1,\n",
       "       3, 1, 1, 1, 3, 3, 0, 1, 3, 2, 0, 0, 2, 0, 1, 0, 2, 2, 2, 2, 3, 2,\n",
       "       3, 2, 2, 2, 0, 2, 1, 1, 1, 2, 1, 3, 1, 3, 1, 2, 2, 0, 0, 1, 0, 3,\n",
       "       0, 1, 3, 3, 3, 0, 2, 1, 1, 1, 2, 0, 1, 2, 0, 1, 0, 1, 3, 0, 3, 3,\n",
       "       1, 2, 0, 0, 0, 2, 3, 2, 3, 0, 1, 2, 2, 3, 1, 2, 0, 1, 3, 2, 3, 2,\n",
       "       3, 1, 1, 3, 2, 1, 3, 3, 1, 1, 2, 3, 0, 1, 3, 0, 1, 2, 1, 2, 0, 1,\n",
       "       2, 0, 0, 2, 3, 2, 1, 2, 1, 3, 1, 3, 0, 1, 3, 2, 1, 3, 1, 1, 2, 3,\n",
       "       0, 2, 2, 3, 0, 1, 0, 2, 3, 0, 0, 2, 0, 2, 1, 1, 2, 1, 0, 0, 2, 3,\n",
       "       2, 2, 3, 1, 0, 1, 1, 0, 3, 0, 0, 0, 0, 0, 3, 3, 2, 2, 1, 1, 1, 2,\n",
       "       3, 1, 3, 3, 0, 1, 3, 1, 1, 3], dtype=int8)"
      ]
     },
     "execution_count": 19,
     "metadata": {},
     "output_type": "execute_result"
    }
   ],
   "source": [
    "y"
   ]
  },
  {
   "cell_type": "code",
   "execution_count": 20,
   "metadata": {},
   "outputs": [
    {
     "name": "stdout",
     "output_type": "stream",
     "text": [
      "INFO:openml.datasets.dataset:pickle write vehicle\n"
     ]
    }
   ],
   "source": [
    "task_id = 233094\n",
    "X_train, X_test, y_train, y_test, _, _, _, _ = data.import_data(task_id, \"task\")"
   ]
  },
  {
   "cell_type": "code",
   "execution_count": 21,
   "metadata": {},
   "outputs": [
    {
     "data": {
      "text/plain": [
       "True"
      ]
     },
     "execution_count": 21,
     "metadata": {},
     "output_type": "execute_result"
    }
   ],
   "source": [
    "len(X_test) == len(y_test)"
   ]
  },
  {
   "cell_type": "code",
   "execution_count": 22,
   "metadata": {},
   "outputs": [
    {
     "name": "stdout",
     "output_type": "stream",
     "text": [
      "INFO:openml.datasets.dataset:pickle write vehicle\n"
     ]
    }
   ],
   "source": [
    "df_id = 54\n",
    "X, y, _, _, _, _ = data.import_data(df_id, \"ds_id\")"
   ]
  },
  {
   "cell_type": "code",
   "execution_count": 25,
   "metadata": {},
   "outputs": [],
   "source": [
    "import numpy as np\n",
    "\n",
    "X_concatenated = np.concatenate((X_train, X_test))"
   ]
  },
  {
   "cell_type": "code",
   "execution_count": 28,
   "metadata": {},
   "outputs": [
    {
     "data": {
      "text/plain": [
       "True"
      ]
     },
     "execution_count": 28,
     "metadata": {},
     "output_type": "execute_result"
    }
   ],
   "source": [
    "np.array_equal(X_concatenated, X)"
   ]
  },
  {
   "cell_type": "code",
   "execution_count": null,
   "metadata": {},
   "outputs": [],
   "source": []
  },
  {
   "cell_type": "code",
   "execution_count": null,
   "metadata": {},
   "outputs": [],
   "source": []
  }
 ],
 "metadata": {
  "kernelspec": {
   "display_name": "tabtrans",
   "language": "python",
   "name": "python3"
  },
  "language_info": {
   "codemirror_mode": {
    "name": "ipython",
    "version": 3
   },
   "file_extension": ".py",
   "mimetype": "text/x-python",
   "name": "python",
   "nbconvert_exporter": "python",
   "pygments_lexer": "ipython3",
   "version": "3.11.7"
  }
 },
 "nbformat": 4,
 "nbformat_minor": 2
}
