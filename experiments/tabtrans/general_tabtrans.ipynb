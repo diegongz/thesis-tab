{
 "cells": [
  {
   "cell_type": "code",
   "execution_count": 1,
   "metadata": {},
   "outputs": [
    {
     "name": "stdout",
     "output_type": "stream",
     "text": [
      "/home/diego-ngz/Git/thesis-tabtrans\n"
     ]
    }
   ],
   "source": [
    "import sys\n",
    "import os\n",
    "\n",
    "# Get the project directory\n",
    "project_path = \"/home/diego-ngz/Git/thesis-tabtrans\"\n",
    "\n",
    "sys.path.append(project_path) #This helps to be able to import the data from the parent directory to other files\n",
    "\n",
    "from utils import tabtrans_file, data\n",
    "import numpy as np"
   ]
  },
  {
   "cell_type": "code",
   "execution_count": 23,
   "metadata": {},
   "outputs": [
    {
     "name": "stdout",
     "output_type": "stream",
     "text": [
      "INFO:root:Starting [get] request for the URL https://www.openml.org/api/v1/xml/task/3481\n",
      "INFO:root:0.5015116s taken for [get] request for the URL https://www.openml.org/api/v1/xml/task/3481\n",
      "INFO:root:Starting [get] request for the URL https://www.openml.org/api/v1/xml/data/300\n",
      "INFO:root:0.5103958s taken for [get] request for the URL https://www.openml.org/api/v1/xml/data/300\n",
      "INFO:root:Starting [get] request for the URL https://www.openml.org/api/v1/xml/data/features/300\n",
      "INFO:root:0.5163255s taken for [get] request for the URL https://www.openml.org/api/v1/xml/data/features/300\n",
      "INFO:root:Starting [get] request for the URL https://www.openml.org/api/v1/xml/data/qualities/300\n",
      "INFO:root:0.5024729s taken for [get] request for the URL https://www.openml.org/api/v1/xml/data/qualities/300\n",
      "INFO:root:Starting [get] request for the URL https://api.openml.org/data/v1/download/52405/isolet.arff\n",
      "INFO:root:5.4433086s taken for [get] request for the URL https://api.openml.org/data/v1/download/52405/isolet.arff\n",
      "INFO:urllib3.poolmanager:Redirecting http://openml1.win.tue.nl/datasets/0000/0300/dataset_300.pq -> https://openml1.win.tue.nl/datasets/0000/0300/dataset_300.pq\n",
      "INFO:urllib3.poolmanager:Redirecting http://openml1.win.tue.nl/datasets/0000/0300/dataset_300.pq -> https://openml1.win.tue.nl/datasets/0000/0300/dataset_300.pq\n",
      "INFO:root:Starting [get] request for the URL https://api.openml.org/api_splits/get/3481/Task_3481_splits.arff\n",
      "INFO:root:0.9470429s taken for [get] request for the URL https://api.openml.org/api_splits/get/3481/Task_3481_splits.arff\n",
      "INFO:openml.datasets.dataset:pickle write isolet\n"
     ]
    }
   ],
   "source": [
    "'''\n",
    "9964 semeion 257 pass\n",
    "233092 arrhythmia 280\n",
    "3485 scene 300\n",
    "9976 madelon 501\n",
    "3481 isolet 618 (TO MUCH INSTANCES) \n",
    "'''\n",
    "\n",
    "id = 3481\n",
    "\n",
    "X_train, X_test, y_train, y_test, train_indices, val_indices, n_instances, n_labels, n_numerical, n_categories = data.import_data(id)"
   ]
  },
  {
   "cell_type": "code",
   "execution_count": 24,
   "metadata": {},
   "outputs": [
    {
     "name": "stdout",
     "output_type": "stream",
     "text": [
      "Instances: 7797\n",
      "Features: 617\n",
      "F2i: 0.07913299987174555\n",
      "Classes: 26\n"
     ]
    }
   ],
   "source": [
    "print(f\"Instances: {X_train.shape[0]+X_test.shape[0]}\")\n",
    "print(f\"Features: {X_train.shape[1]}\")\n",
    "print(f\"F2i: {X_train.shape[1]/(X_train.shape[0]+X_test.shape[0])}\")\n",
    "print(f\"Classes: {n_labels}\")"
   ]
  },
  {
   "cell_type": "code",
   "execution_count": 10,
   "metadata": {},
   "outputs": [
    {
     "name": "stdout",
     "output_type": "stream",
     "text": [
      "X_train shape:  (100, 310)\n",
      "X_test shape:  (26, 310)\n"
     ]
    }
   ],
   "source": [
    "print(\"X_train shape: \", X_train.shape)\n",
    "print(\"X_test shape: \", X_test.shape)"
   ]
  },
  {
   "cell_type": "code",
   "execution_count": 3,
   "metadata": {},
   "outputs": [],
   "source": [
    "from sklearn.model_selection import StratifiedKFold\n",
    "\n",
    "# Initialize StratifiedKFold with 5 splits\n",
    "skf = StratifiedKFold(n_splits=5, shuffle=True, random_state = 11)\n",
    "\n"
   ]
  },
  {
   "cell_type": "code",
   "execution_count": 18,
   "metadata": {},
   "outputs": [],
   "source": [
    "skf.split(X_train, y_train)\n",
    "\n",
    "dict_split = {}\n",
    "i = 1\n",
    "\n",
    "\n",
    "for x,y in skf.split(X_train, y_train):\n",
    "\n",
    "    dict_split[f\"split_{i}\"] = set(y)    \n",
    "    i += 1"
   ]
  },
  {
   "cell_type": "code",
   "execution_count": null,
   "metadata": {},
   "outputs": [],
   "source": [
    "'''\n",
    "n_layers_lst = [2, 3, 4, 5] #2, 3, 4, 5\n",
    "n_heads_lst = [4, 8, 16, 32] #4, 8, 16, 32\n",
    "embed_dim = [128,256] #The embedding size is set one by one to avoid the out of memory error {128, 256}\n",
    "batch_size = 32 # 32, 64, 128, 256, 512, 1024\n",
    "epochs = 100\n",
    "sample_size = [100,80,60,40,20]\n",
    "'''\n",
    "n_layers = 2\n",
    "n_heads = 4\n",
    "embedding_size = 128\n",
    "batch_size = 32\n",
    "epochs = 50\n",
    "\n",
    "\n",
    "model, metrics = tabtrans_file.general_tabtrans(X_train, X_test, y_train, y_test, train_indices, val_indices, n_labels, n_numerical, n_categories, n_layers, n_heads, embedding_size, batch_size, epochs)\n"
   ]
  },
  {
   "cell_type": "code",
   "execution_count": null,
   "metadata": {},
   "outputs": [],
   "source": [
    "metrics"
   ]
  }
 ],
 "metadata": {
  "kernelspec": {
   "display_name": "tabtrans",
   "language": "python",
   "name": "python3"
  },
  "language_info": {
   "codemirror_mode": {
    "name": "ipython",
    "version": 3
   },
   "file_extension": ".py",
   "mimetype": "text/x-python",
   "name": "python",
   "nbconvert_exporter": "python",
   "pygments_lexer": "ipython3",
   "version": "3.11.7"
  }
 },
 "nbformat": 4,
 "nbformat_minor": 2
}
